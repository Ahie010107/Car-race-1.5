{
  "nbformat": 4,
  "nbformat_minor": 0,
  "metadata": {
    "colab": {
      "name": "Python class 1",
      "provenance": [],
      "authorship_tag": "ABX9TyM9RylCUepm57zXnjYOkUSB",
      "include_colab_link": true
    },
    "kernelspec": {
      "name": "python3",
      "display_name": "Python 3"
    },
    "language_info": {
      "name": "python"
    }
  },
  "cells": [
    {
      "cell_type": "markdown",
      "metadata": {
        "id": "view-in-github",
        "colab_type": "text"
      },
      "source": [
        "<a href=\"https://colab.research.google.com/github/Ahie010107/Car-race-1.5/blob/main/Python_class_1.ipynb\" target=\"_parent\"><img src=\"https://colab.research.google.com/assets/colab-badge.svg\" alt=\"Open In Colab\"/></a>"
      ]
    },
    {
      "cell_type": "code",
      "metadata": {
        "colab": {
          "base_uri": "https://localhost:8080/"
        },
        "id": "rCrp4K2DwasR",
        "outputId": "aa160edf-3a92-49df-a170-2c60d5574828"
      },
      "source": [
        "a = 10\n",
        "b = 30\n",
        "c = 20\n",
        "\n",
        "if a>b&a>c: \n",
        "  print(\"a is greatest\")\n",
        "elif b>a&b>c:\n",
        "  print(\"b is greatest\")\n",
        "\n",
        "else: print (\"c is greatest\")"
      ],
      "execution_count": null,
      "outputs": [
        {
          "output_type": "stream",
          "text": [
            "c is greatest\n"
          ],
          "name": "stdout"
        }
      ]
    },
    {
      "cell_type": "code",
      "metadata": {
        "colab": {
          "base_uri": "https://localhost:8080/"
        },
        "id": "XFS4IYucTl9O",
        "outputId": "11d9e8e0-8293-463a-dd86-900c7c408995"
      },
      "source": [
        "import random\n",
        "\n",
        "print(\"Number guessing game\")\n",
        "\n",
        "# randint function to generate the random number between 1 to 9\n",
        "number = random.randint(1, 9)\n",
        "\n",
        "# number of chances to be given to the user to guess the number\n",
        "# or it is the inputs given by user into input box here number of chances are 5\n",
        "chances = 0\n",
        "\n",
        "print(\"Guess a number (between 1 and 9):\")\n",
        "\n",
        "# While loop to count the number of chances\n",
        "while chances < 5:\n",
        "\n",
        "    # Enter a number between 1 to 9\n",
        "    guess = int(input(\"Enter your guess:- \"))\n",
        "\n",
        "    # Compare the user entered number with the number to be guessed\n",
        "\n",
        "    if guess == number:\n",
        "        # if number entered by user is same as the generated\n",
        "        # number by randint function then break from loop using loop\n",
        "        # control statement \"break\"\n",
        "        print(\"Congratulation YOU WON!!!\")\n",
        "        break\n",
        "\n",
        "    # Check if the user entered number is smaller than the generated number\n",
        "    elif guess < number:\n",
        "        print(\"Your guess was too low: Guess a number higher than\", guess)\n",
        "\n",
        "    # The user entered number is greater than the generated number\n",
        "    else:\n",
        "        print(\"Your guess was too high: Guess a number lower than\", guess)\n",
        "\n",
        "    # Increase the value of chance by 1\n",
        "    chances += 1\n",
        "\n",
        "\n",
        "# Check whether the user guessed the correct number\n",
        "if not chances < 5:\n",
        "    print(\"YOU LOSE!!! The number is\", number)"
      ],
      "execution_count": null,
      "outputs": [
        {
          "output_type": "stream",
          "text": [
            "Number guessing game\n",
            "Guess a number (between 1 and 9):\n"
          ],
          "name": "stdout"
        }
      ]
    },
    {
      "cell_type": "code",
      "metadata": {
        "colab": {
          "base_uri": "https://localhost:8080/"
        },
        "id": "HAIsCI8B3SZ8",
        "outputId": "1246f8fd-abad-4b2d-cc3e-76f3da307389"
      },
      "source": [
        "print(\"bun\")"
      ],
      "execution_count": null,
      "outputs": [
        {
          "output_type": "stream",
          "text": [
            "bun\n"
          ],
          "name": "stdout"
        }
      ]
    },
    {
      "cell_type": "code",
      "metadata": {
        "colab": {
          "base_uri": "https://localhost:8080/"
        },
        "id": "_zAlkcAl39cV",
        "outputId": "759682a4-0fd4-477b-ee79-3f9b60278636"
      },
      "source": [
        "def ted():\n",
        "  a = 8\n",
        "  b = 14\n",
        "  c= a+b \n",
        "  print(c)\n",
        "ted()\n",
        "\n",
        "\n"
      ],
      "execution_count": null,
      "outputs": [
        {
          "output_type": "stream",
          "text": [
            "22\n"
          ],
          "name": "stdout"
        }
      ]
    },
    {
      "cell_type": "code",
      "metadata": {
        "id": "H5nIkb3AxrZ2"
      },
      "source": [
        "a = 4\n",
        "print(float(a))\n",
        "\n",
        "type(a)\n",
        "\n"
      ],
      "execution_count": null,
      "outputs": []
    },
    {
      "cell_type": "code",
      "metadata": {
        "colab": {
          "base_uri": "https://localhost:8080/"
        },
        "id": "PXBjOodR5vZF",
        "outputId": "75dda504-75d9-49a0-cf14-7c90a8fcfd92"
      },
      "source": [
        "\n",
        "for i in range(0,100,10):\n",
        "  print(i)"
      ],
      "execution_count": null,
      "outputs": [
        {
          "output_type": "stream",
          "text": [
            "0\n",
            "10\n",
            "20\n",
            "30\n",
            "40\n",
            "50\n",
            "60\n",
            "70\n",
            "80\n",
            "90\n"
          ],
          "name": "stdout"
        }
      ]
    },
    {
      "cell_type": "code",
      "metadata": {
        "id": "z6XMpjTbbymb"
      },
      "source": [
        "from google.colab import files\n",
        "files.upload()"
      ],
      "execution_count": null,
      "outputs": []
    }
  ]
}